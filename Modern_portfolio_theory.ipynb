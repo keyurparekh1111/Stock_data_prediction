{
 "cells": [
  {
   "cell_type": "code",
   "execution_count": 1,
   "metadata": {},
   "outputs": [],
   "source": [
    "import pandas as pd\n",
    "import numpy as np\n",
    "import matplotlib.pyplot as plt\n"
   ]
  },
  {
   "cell_type": "code",
   "execution_count": 2,
   "metadata": {},
   "outputs": [
    {
     "data": {
      "text/html": [
       "<div>\n",
       "<style scoped>\n",
       "    .dataframe tbody tr th:only-of-type {\n",
       "        vertical-align: middle;\n",
       "    }\n",
       "\n",
       "    .dataframe tbody tr th {\n",
       "        vertical-align: top;\n",
       "    }\n",
       "\n",
       "    .dataframe thead th {\n",
       "        text-align: right;\n",
       "    }\n",
       "</style>\n",
       "<table border=\"1\" class=\"dataframe\">\n",
       "  <thead>\n",
       "    <tr style=\"text-align: right;\">\n",
       "      <th></th>\n",
       "      <th>Symbol</th>\n",
       "      <th>Series</th>\n",
       "      <th>Date</th>\n",
       "      <th>Prev Close</th>\n",
       "      <th>Open Price</th>\n",
       "      <th>High Price</th>\n",
       "      <th>Low Price</th>\n",
       "      <th>Last Price</th>\n",
       "      <th>Close Price</th>\n",
       "      <th>Average Price</th>\n",
       "      <th>Total Traded Quantity</th>\n",
       "      <th>Turnover</th>\n",
       "      <th>No. of Trades</th>\n",
       "      <th>Deliverable Qty</th>\n",
       "      <th>% Dly Qt to Traded Qty</th>\n",
       "    </tr>\n",
       "  </thead>\n",
       "  <tbody>\n",
       "    <tr>\n",
       "      <th>0</th>\n",
       "      <td>RCOM</td>\n",
       "      <td>EQ</td>\n",
       "      <td>15-May-2017</td>\n",
       "      <td>32.45</td>\n",
       "      <td>32.50</td>\n",
       "      <td>32.60</td>\n",
       "      <td>31.70</td>\n",
       "      <td>32.00</td>\n",
       "      <td>32.00</td>\n",
       "      <td>31.99</td>\n",
       "      <td>7126316</td>\n",
       "      <td>2.279973e+08</td>\n",
       "      <td>11883</td>\n",
       "      <td>1908042</td>\n",
       "      <td>26.77</td>\n",
       "    </tr>\n",
       "    <tr>\n",
       "      <th>1</th>\n",
       "      <td>RCOM</td>\n",
       "      <td>EQ</td>\n",
       "      <td>16-May-2017</td>\n",
       "      <td>32.00</td>\n",
       "      <td>32.05</td>\n",
       "      <td>32.35</td>\n",
       "      <td>31.85</td>\n",
       "      <td>32.00</td>\n",
       "      <td>32.10</td>\n",
       "      <td>32.12</td>\n",
       "      <td>7274881</td>\n",
       "      <td>2.336877e+08</td>\n",
       "      <td>9976</td>\n",
       "      <td>2211910</td>\n",
       "      <td>30.40</td>\n",
       "    </tr>\n",
       "    <tr>\n",
       "      <th>2</th>\n",
       "      <td>RCOM</td>\n",
       "      <td>EQ</td>\n",
       "      <td>17-May-2017</td>\n",
       "      <td>32.10</td>\n",
       "      <td>32.10</td>\n",
       "      <td>32.30</td>\n",
       "      <td>31.70</td>\n",
       "      <td>31.90</td>\n",
       "      <td>31.95</td>\n",
       "      <td>31.97</td>\n",
       "      <td>6245114</td>\n",
       "      <td>1.996360e+08</td>\n",
       "      <td>8838</td>\n",
       "      <td>1399815</td>\n",
       "      <td>22.41</td>\n",
       "    </tr>\n",
       "    <tr>\n",
       "      <th>3</th>\n",
       "      <td>RCOM</td>\n",
       "      <td>EQ</td>\n",
       "      <td>18-May-2017</td>\n",
       "      <td>31.95</td>\n",
       "      <td>31.60</td>\n",
       "      <td>31.90</td>\n",
       "      <td>31.00</td>\n",
       "      <td>31.05</td>\n",
       "      <td>31.05</td>\n",
       "      <td>31.34</td>\n",
       "      <td>11189938</td>\n",
       "      <td>3.506776e+08</td>\n",
       "      <td>17051</td>\n",
       "      <td>3629175</td>\n",
       "      <td>32.43</td>\n",
       "    </tr>\n",
       "    <tr>\n",
       "      <th>4</th>\n",
       "      <td>RCOM</td>\n",
       "      <td>EQ</td>\n",
       "      <td>19-May-2017</td>\n",
       "      <td>31.05</td>\n",
       "      <td>31.20</td>\n",
       "      <td>31.45</td>\n",
       "      <td>30.25</td>\n",
       "      <td>30.55</td>\n",
       "      <td>30.55</td>\n",
       "      <td>30.80</td>\n",
       "      <td>11898780</td>\n",
       "      <td>3.664547e+08</td>\n",
       "      <td>18065</td>\n",
       "      <td>3309529</td>\n",
       "      <td>27.81</td>\n",
       "    </tr>\n",
       "    <tr>\n",
       "      <th>...</th>\n",
       "      <td>...</td>\n",
       "      <td>...</td>\n",
       "      <td>...</td>\n",
       "      <td>...</td>\n",
       "      <td>...</td>\n",
       "      <td>...</td>\n",
       "      <td>...</td>\n",
       "      <td>...</td>\n",
       "      <td>...</td>\n",
       "      <td>...</td>\n",
       "      <td>...</td>\n",
       "      <td>...</td>\n",
       "      <td>...</td>\n",
       "      <td>...</td>\n",
       "      <td>...</td>\n",
       "    </tr>\n",
       "    <tr>\n",
       "      <th>489</th>\n",
       "      <td>RCOM</td>\n",
       "      <td>EQ</td>\n",
       "      <td>07-May-2019</td>\n",
       "      <td>2.00</td>\n",
       "      <td>2.00</td>\n",
       "      <td>2.10</td>\n",
       "      <td>2.00</td>\n",
       "      <td>2.10</td>\n",
       "      <td>2.10</td>\n",
       "      <td>2.06</td>\n",
       "      <td>64199212</td>\n",
       "      <td>1.325275e+08</td>\n",
       "      <td>9103</td>\n",
       "      <td>34677474</td>\n",
       "      <td>54.02</td>\n",
       "    </tr>\n",
       "    <tr>\n",
       "      <th>490</th>\n",
       "      <td>RCOM</td>\n",
       "      <td>EQ</td>\n",
       "      <td>08-May-2019</td>\n",
       "      <td>2.10</td>\n",
       "      <td>2.10</td>\n",
       "      <td>2.20</td>\n",
       "      <td>2.10</td>\n",
       "      <td>2.20</td>\n",
       "      <td>2.20</td>\n",
       "      <td>2.18</td>\n",
       "      <td>27455636</td>\n",
       "      <td>5.972756e+07</td>\n",
       "      <td>4208</td>\n",
       "      <td>14957834</td>\n",
       "      <td>54.48</td>\n",
       "    </tr>\n",
       "    <tr>\n",
       "      <th>491</th>\n",
       "      <td>RCOM</td>\n",
       "      <td>EQ</td>\n",
       "      <td>09-May-2019</td>\n",
       "      <td>2.20</td>\n",
       "      <td>2.30</td>\n",
       "      <td>2.30</td>\n",
       "      <td>2.30</td>\n",
       "      <td>2.30</td>\n",
       "      <td>2.30</td>\n",
       "      <td>2.30</td>\n",
       "      <td>7854126</td>\n",
       "      <td>1.806449e+07</td>\n",
       "      <td>2385</td>\n",
       "      <td>7711773</td>\n",
       "      <td>98.19</td>\n",
       "    </tr>\n",
       "    <tr>\n",
       "      <th>492</th>\n",
       "      <td>RCOM</td>\n",
       "      <td>EQ</td>\n",
       "      <td>10-May-2019</td>\n",
       "      <td>2.30</td>\n",
       "      <td>2.40</td>\n",
       "      <td>2.40</td>\n",
       "      <td>2.40</td>\n",
       "      <td>2.40</td>\n",
       "      <td>2.40</td>\n",
       "      <td>2.40</td>\n",
       "      <td>3584592</td>\n",
       "      <td>8.603021e+06</td>\n",
       "      <td>1560</td>\n",
       "      <td>3584592</td>\n",
       "      <td>100.00</td>\n",
       "    </tr>\n",
       "    <tr>\n",
       "      <th>493</th>\n",
       "      <td>RCOM</td>\n",
       "      <td>EQ</td>\n",
       "      <td>13-May-2019</td>\n",
       "      <td>2.40</td>\n",
       "      <td>2.45</td>\n",
       "      <td>2.50</td>\n",
       "      <td>2.30</td>\n",
       "      <td>2.30</td>\n",
       "      <td>2.30</td>\n",
       "      <td>2.40</td>\n",
       "      <td>42329516</td>\n",
       "      <td>1.014503e+08</td>\n",
       "      <td>9541</td>\n",
       "      <td>26309575</td>\n",
       "      <td>62.15</td>\n",
       "    </tr>\n",
       "  </tbody>\n",
       "</table>\n",
       "<p>494 rows × 15 columns</p>\n",
       "</div>"
      ],
      "text/plain": [
       "    Symbol Series         Date  Prev Close  Open Price  High Price  Low Price  \\\n",
       "0     RCOM     EQ  15-May-2017       32.45       32.50       32.60      31.70   \n",
       "1     RCOM     EQ  16-May-2017       32.00       32.05       32.35      31.85   \n",
       "2     RCOM     EQ  17-May-2017       32.10       32.10       32.30      31.70   \n",
       "3     RCOM     EQ  18-May-2017       31.95       31.60       31.90      31.00   \n",
       "4     RCOM     EQ  19-May-2017       31.05       31.20       31.45      30.25   \n",
       "..     ...    ...          ...         ...         ...         ...        ...   \n",
       "489   RCOM     EQ  07-May-2019        2.00        2.00        2.10       2.00   \n",
       "490   RCOM     EQ  08-May-2019        2.10        2.10        2.20       2.10   \n",
       "491   RCOM     EQ  09-May-2019        2.20        2.30        2.30       2.30   \n",
       "492   RCOM     EQ  10-May-2019        2.30        2.40        2.40       2.40   \n",
       "493   RCOM     EQ  13-May-2019        2.40        2.45        2.50       2.30   \n",
       "\n",
       "     Last Price  Close Price  Average Price  Total Traded Quantity  \\\n",
       "0         32.00        32.00          31.99                7126316   \n",
       "1         32.00        32.10          32.12                7274881   \n",
       "2         31.90        31.95          31.97                6245114   \n",
       "3         31.05        31.05          31.34               11189938   \n",
       "4         30.55        30.55          30.80               11898780   \n",
       "..          ...          ...            ...                    ...   \n",
       "489        2.10         2.10           2.06               64199212   \n",
       "490        2.20         2.20           2.18               27455636   \n",
       "491        2.30         2.30           2.30                7854126   \n",
       "492        2.40         2.40           2.40                3584592   \n",
       "493        2.30         2.30           2.40               42329516   \n",
       "\n",
       "         Turnover  No. of Trades  Deliverable Qty  % Dly Qt to Traded Qty  \n",
       "0    2.279973e+08          11883          1908042                   26.77  \n",
       "1    2.336877e+08           9976          2211910                   30.40  \n",
       "2    1.996360e+08           8838          1399815                   22.41  \n",
       "3    3.506776e+08          17051          3629175                   32.43  \n",
       "4    3.664547e+08          18065          3309529                   27.81  \n",
       "..            ...            ...              ...                     ...  \n",
       "489  1.325275e+08           9103         34677474                   54.02  \n",
       "490  5.972756e+07           4208         14957834                   54.48  \n",
       "491  1.806449e+07           2385          7711773                   98.19  \n",
       "492  8.603021e+06           1560          3584592                  100.00  \n",
       "493  1.014503e+08           9541         26309575                   62.15  \n",
       "\n",
       "[494 rows x 15 columns]"
      ]
     },
     "execution_count": 2,
     "metadata": {},
     "output_type": "execute_result"
    }
   ],
   "source": [
    "df=pd.read_csv('RCOM.csv')\n",
    "df"
   ]
  },
  {
   "cell_type": "code",
   "execution_count": 3,
   "metadata": {},
   "outputs": [],
   "source": [
    "def meanDailyReturn(df):\n",
    "    return df['Close Price'].pct_change().dropna().mean()\n",
    "\n",
    "def dailyStd(df):\n",
    "    return df['Close Price'].pct_change().dropna().std()\n",
    "\n",
    "def meanAnnualReturn(df):\n",
    "    return meanDailyReturn(df) * 252\n",
    "\n",
    "def annualStd(df):\n",
    "    return dailyStd(df) * np.sqrt(252)"
   ]
  },
  {
   "cell_type": "code",
   "execution_count": 4,
   "metadata": {},
   "outputs": [],
   "source": [
    "def print_returns(df):\n",
    "    print('Company: ',df['Symbol'].iloc[1])\n",
    "    print('Mean daily return: ',meanDailyReturn(df))\n",
    "    print('Daily standard deviation: ',dailyStd(df))\n",
    "    print('Mean annual return: ',meanAnnualReturn(df))\n",
    "    print('Annual standard deviation: ',annualStd(df))"
   ]
  },
  {
   "cell_type": "code",
   "execution_count": 5,
   "metadata": {},
   "outputs": [
    {
     "name": "stdout",
     "output_type": "stream",
     "text": [
      "Company:  RCOM\n",
      "Mean daily return:  -0.0034989231314716154\n",
      "Daily standard deviation:  0.062072231904791365\n",
      "Mean annual return:  -0.881728629130847\n",
      "Annual standard deviation:  0.9853661336568424\n"
     ]
    }
   ],
   "source": [
    "print_returns(df)"
   ]
  },
  {
   "cell_type": "code",
   "execution_count": 6,
   "metadata": {},
   "outputs": [],
   "source": [
    "df_maruti=pd.read_csv('Large_Cap/MARUTI.csv')\n",
    "df_dhfl=pd.read_csv('Mid_Cap/DHFL.csv')\n",
    "df_pvr=pd.read_csv('Small_Cap/PVR.csv')\n",
    "df_cipla=pd.read_csv('Large_Cap/CIPLA.csv')"
   ]
  },
  {
   "cell_type": "code",
   "execution_count": 7,
   "metadata": {},
   "outputs": [
    {
     "name": "stdout",
     "output_type": "stream",
     "text": [
      "Company:  RCOM\n",
      "Mean daily return:  -0.0034989231314716154\n",
      "Daily standard deviation:  0.062072231904791365\n",
      "Mean annual return:  -0.881728629130847\n",
      "Annual standard deviation:  0.9853661336568424\n",
      "------------------------------------------------------------------------------------------\n",
      "Company:  MARUTI\n",
      "Mean daily return:  1.555889014371006e-05\n",
      "Daily standard deviation:  0.014173824847112092\n",
      "Mean annual return:  0.003920840316214935\n",
      "Annual standard deviation:  0.22500249403228015\n",
      "------------------------------------------------------------------------------------------\n",
      "Company:  CIPLA\n",
      "Mean daily return:  4.6701476775483235e-05\n",
      "Daily standard deviation:  0.01599678237409395\n",
      "Mean annual return:  0.011768772147421775\n",
      "Annual standard deviation:  0.25394104763444403\n",
      "------------------------------------------------------------------------------------------\n",
      "Company:  DHFL\n",
      "Mean daily return:  0.14798157178451057\n",
      "Daily standard deviation:  0.8823733046668715\n",
      "Mean annual return:  37.29135608969666\n",
      "Annual standard deviation:  14.007241966024624\n",
      "------------------------------------------------------------------------------------------\n",
      "Company:  PVR\n",
      "Mean daily return:  0.00043995169495582303\n",
      "Daily standard deviation:  0.01952144353294041\n",
      "Mean annual return:  0.1108678271288674\n",
      "Annual standard deviation:  0.3098933089269028\n",
      "------------------------------------------------------------------------------------------\n"
     ]
    }
   ],
   "source": [
    "stocks=[df,df_maruti,df_cipla,df_dhfl,df_pvr]\n",
    "\n",
    "for i in stocks:\n",
    "    print_returns(i)\n",
    "    print('-'*90)"
   ]
  },
  {
   "cell_type": "code",
   "execution_count": 8,
   "metadata": {},
   "outputs": [
    {
     "data": {
      "text/html": [
       "<div>\n",
       "<style scoped>\n",
       "    .dataframe tbody tr th:only-of-type {\n",
       "        vertical-align: middle;\n",
       "    }\n",
       "\n",
       "    .dataframe tbody tr th {\n",
       "        vertical-align: top;\n",
       "    }\n",
       "\n",
       "    .dataframe thead th {\n",
       "        text-align: right;\n",
       "    }\n",
       "</style>\n",
       "<table border=\"1\" class=\"dataframe\">\n",
       "  <thead>\n",
       "    <tr style=\"text-align: right;\">\n",
       "      <th></th>\n",
       "      <th>RCOM</th>\n",
       "      <th>MARUTI</th>\n",
       "      <th>CIPLA</th>\n",
       "      <th>DHFL</th>\n",
       "      <th>PVR</th>\n",
       "    </tr>\n",
       "  </thead>\n",
       "  <tbody>\n",
       "    <tr>\n",
       "      <th>0</th>\n",
       "      <td>32.00</td>\n",
       "      <td>6823.90</td>\n",
       "      <td>569.00</td>\n",
       "      <td>431.4</td>\n",
       "      <td>1524.95</td>\n",
       "    </tr>\n",
       "    <tr>\n",
       "      <th>1</th>\n",
       "      <td>32.10</td>\n",
       "      <td>6953.95</td>\n",
       "      <td>565.60</td>\n",
       "      <td>1009.9</td>\n",
       "      <td>1539.00</td>\n",
       "    </tr>\n",
       "    <tr>\n",
       "      <th>2</th>\n",
       "      <td>31.95</td>\n",
       "      <td>6958.20</td>\n",
       "      <td>562.35</td>\n",
       "      <td>1055.2</td>\n",
       "      <td>1530.30</td>\n",
       "    </tr>\n",
       "    <tr>\n",
       "      <th>3</th>\n",
       "      <td>31.05</td>\n",
       "      <td>6831.05</td>\n",
       "      <td>560.10</td>\n",
       "      <td>1070.0</td>\n",
       "      <td>1515.05</td>\n",
       "    </tr>\n",
       "    <tr>\n",
       "      <th>4</th>\n",
       "      <td>30.55</td>\n",
       "      <td>6790.55</td>\n",
       "      <td>564.95</td>\n",
       "      <td>1050.0</td>\n",
       "      <td>1513.55</td>\n",
       "    </tr>\n",
       "  </tbody>\n",
       "</table>\n",
       "</div>"
      ],
      "text/plain": [
       "    RCOM   MARUTI   CIPLA    DHFL      PVR\n",
       "0  32.00  6823.90  569.00   431.4  1524.95\n",
       "1  32.10  6953.95  565.60  1009.9  1539.00\n",
       "2  31.95  6958.20  562.35  1055.2  1530.30\n",
       "3  31.05  6831.05  560.10  1070.0  1515.05\n",
       "4  30.55  6790.55  564.95  1050.0  1513.55"
      ]
     },
     "execution_count": 8,
     "metadata": {},
     "output_type": "execute_result"
    }
   ],
   "source": [
    "portfolio = pd.DataFrame()\n",
    "for i in stocks:\n",
    "    portfolio[ '{}'.format(i['Symbol'].iloc[1]) ] = i['Close Price']\n",
    "portfolio.head()"
   ]
  },
  {
   "cell_type": "code",
   "execution_count": 9,
   "metadata": {},
   "outputs": [
    {
     "data": {
      "text/plain": [
       "array([0.2, 0.2, 0.2, 0.2, 0.2])"
      ]
     },
     "execution_count": 9,
     "metadata": {},
     "output_type": "execute_result"
    }
   ],
   "source": [
    "equal_weights = np.full( portfolio.shape[1], 1/portfolio.shape[1] )\n",
    "equal_weights"
   ]
  },
  {
   "cell_type": "code",
   "execution_count": 10,
   "metadata": {},
   "outputs": [
    {
     "data": {
      "text/plain": [
       "5.422111848839529"
      ]
     },
     "execution_count": 10,
     "metadata": {},
     "output_type": "execute_result"
    }
   ],
   "source": [
    "def portfolio_annual_returns(portfolio, weights):\n",
    "    return  np.sum(portfolio.pct_change().mean() * weights ) * 252\n",
    "\n",
    "portfolio_annual_returns(portfolio, equal_weights)"
   ]
  },
  {
   "cell_type": "code",
   "execution_count": 11,
   "metadata": {},
   "outputs": [
    {
     "data": {
      "text/html": [
       "<div>\n",
       "<style scoped>\n",
       "    .dataframe tbody tr th:only-of-type {\n",
       "        vertical-align: middle;\n",
       "    }\n",
       "\n",
       "    .dataframe tbody tr th {\n",
       "        vertical-align: top;\n",
       "    }\n",
       "\n",
       "    .dataframe thead th {\n",
       "        text-align: right;\n",
       "    }\n",
       "</style>\n",
       "<table border=\"1\" class=\"dataframe\">\n",
       "  <thead>\n",
       "    <tr style=\"text-align: right;\">\n",
       "      <th></th>\n",
       "      <th>RCOM</th>\n",
       "      <th>MARUTI</th>\n",
       "      <th>CIPLA</th>\n",
       "      <th>DHFL</th>\n",
       "      <th>PVR</th>\n",
       "    </tr>\n",
       "  </thead>\n",
       "  <tbody>\n",
       "    <tr>\n",
       "      <th>RCOM</th>\n",
       "      <td>0.003853</td>\n",
       "      <td>0.000026</td>\n",
       "      <td>0.000145</td>\n",
       "      <td>0.000105</td>\n",
       "      <td>0.000101</td>\n",
       "    </tr>\n",
       "    <tr>\n",
       "      <th>MARUTI</th>\n",
       "      <td>0.000026</td>\n",
       "      <td>0.000201</td>\n",
       "      <td>0.000026</td>\n",
       "      <td>-0.000138</td>\n",
       "      <td>0.000071</td>\n",
       "    </tr>\n",
       "    <tr>\n",
       "      <th>CIPLA</th>\n",
       "      <td>0.000145</td>\n",
       "      <td>0.000026</td>\n",
       "      <td>0.000256</td>\n",
       "      <td>0.000173</td>\n",
       "      <td>0.000033</td>\n",
       "    </tr>\n",
       "    <tr>\n",
       "      <th>DHFL</th>\n",
       "      <td>0.000105</td>\n",
       "      <td>-0.000138</td>\n",
       "      <td>0.000173</td>\n",
       "      <td>0.281615</td>\n",
       "      <td>0.000304</td>\n",
       "    </tr>\n",
       "    <tr>\n",
       "      <th>PVR</th>\n",
       "      <td>0.000101</td>\n",
       "      <td>0.000071</td>\n",
       "      <td>0.000033</td>\n",
       "      <td>0.000304</td>\n",
       "      <td>0.000382</td>\n",
       "    </tr>\n",
       "  </tbody>\n",
       "</table>\n",
       "</div>"
      ],
      "text/plain": [
       "            RCOM    MARUTI     CIPLA      DHFL       PVR\n",
       "RCOM    0.003853  0.000026  0.000145  0.000105  0.000101\n",
       "MARUTI  0.000026  0.000201  0.000026 -0.000138  0.000071\n",
       "CIPLA   0.000145  0.000026  0.000256  0.000173  0.000033\n",
       "DHFL    0.000105 -0.000138  0.000173  0.281615  0.000304\n",
       "PVR     0.000101  0.000071  0.000033  0.000304  0.000382"
      ]
     },
     "execution_count": 11,
     "metadata": {},
     "output_type": "execute_result"
    }
   ],
   "source": [
    "portfolio_covariance = portfolio.pct_change().cov()\n",
    "portfolio_covariance"
   ]
  },
  {
   "cell_type": "code",
   "execution_count": 12,
   "metadata": {},
   "outputs": [
    {
     "data": {
      "text/plain": [
       "0.42763610394912294"
      ]
     },
     "execution_count": 12,
     "metadata": {},
     "output_type": "execute_result"
    }
   ],
   "source": [
    "def portfolio_annual_volatility( portfolio, weights ): \n",
    "    return np.sqrt(\n",
    "        np.dot( \n",
    "            weights.T, \n",
    "            np.dot( portfolio_covariance, weights )\n",
    "        ) * np.sqrt(252)\n",
    "    )\n",
    "\n",
    "portfolio_annual_volatility(portfolio, equal_weights)"
   ]
  },
  {
   "cell_type": "code",
   "execution_count": 13,
   "metadata": {},
   "outputs": [
    {
     "data": {
      "text/plain": [
       "12.679265849556549"
      ]
     },
     "execution_count": 13,
     "metadata": {},
     "output_type": "execute_result"
    }
   ],
   "source": [
    "def portfolio_sharpe( portfolio, weights ): \n",
    "    return portfolio_annual_returns( portfolio, weights ) / portfolio_annual_volatility( portfolio, weights )\n",
    "\n",
    "portfolio_sharpe(portfolio, equal_weights)\n"
   ]
  },
  {
   "cell_type": "code",
   "execution_count": 14,
   "metadata": {},
   "outputs": [
    {
     "data": {
      "text/plain": [
       "array([0.25 , 0.223, 0.294, 0.188, 0.045])"
      ]
     },
     "execution_count": 14,
     "metadata": {},
     "output_type": "execute_result"
    }
   ],
   "source": [
    "def normalize_weights( weights ):\n",
    "    for i in range(0,3):\n",
    "        weights  = np.round( weights, 3 ) \n",
    "        weights /= weights.sum()\n",
    "    return np.asarray(weights)\n",
    "    \n",
    "def random_weights():\n",
    "    weights  = np.random.rand(portfolio.shape[1])\n",
    "    return normalize_weights( weights )\n",
    "\n",
    "random_weights()"
   ]
  },
  {
   "cell_type": "code",
   "execution_count": 15,
   "metadata": {},
   "outputs": [
    {
     "data": {
      "text/html": [
       "<div>\n",
       "<style scoped>\n",
       "    .dataframe tbody tr th:only-of-type {\n",
       "        vertical-align: middle;\n",
       "    }\n",
       "\n",
       "    .dataframe tbody tr th {\n",
       "        vertical-align: top;\n",
       "    }\n",
       "\n",
       "    .dataframe thead th {\n",
       "        text-align: right;\n",
       "    }\n",
       "</style>\n",
       "<table border=\"1\" class=\"dataframe\">\n",
       "  <thead>\n",
       "    <tr style=\"text-align: right;\">\n",
       "      <th></th>\n",
       "      <th>weights</th>\n",
       "      <th>returns</th>\n",
       "      <th>volatility</th>\n",
       "      <th>sharpe</th>\n",
       "    </tr>\n",
       "  </thead>\n",
       "  <tbody>\n",
       "    <tr>\n",
       "      <th>0</th>\n",
       "      <td>[0.28571428571428564, 0.014985014985014982, 0....</td>\n",
       "      <td>2.674355</td>\n",
       "      <td>0.235457</td>\n",
       "      <td>11.358122</td>\n",
       "    </tr>\n",
       "    <tr>\n",
       "      <th>1</th>\n",
       "      <td>[0.148, 0.188, 0.162, 0.265, 0.237]</td>\n",
       "      <td>7.281373</td>\n",
       "      <td>0.563032</td>\n",
       "      <td>12.932424</td>\n",
       "    </tr>\n",
       "    <tr>\n",
       "      <th>2</th>\n",
       "      <td>[0.134, 0.158, 0.144, 0.186, 0.378]</td>\n",
       "      <td>5.108043</td>\n",
       "      <td>0.397552</td>\n",
       "      <td>12.848755</td>\n",
       "    </tr>\n",
       "    <tr>\n",
       "      <th>3</th>\n",
       "      <td>[0.02302302302302302, 0.35535535535535534, 0.3...</td>\n",
       "      <td>3.213502</td>\n",
       "      <td>0.246752</td>\n",
       "      <td>13.023200</td>\n",
       "    </tr>\n",
       "    <tr>\n",
       "      <th>4</th>\n",
       "      <td>[0.04, 0.397, 0.05, 0.171, 0.342]</td>\n",
       "      <td>4.769616</td>\n",
       "      <td>0.364395</td>\n",
       "      <td>13.089126</td>\n",
       "    </tr>\n",
       "  </tbody>\n",
       "</table>\n",
       "</div>"
      ],
      "text/plain": [
       "                                             weights   returns  volatility  \\\n",
       "0  [0.28571428571428564, 0.014985014985014982, 0....  2.674355    0.235457   \n",
       "1                [0.148, 0.188, 0.162, 0.265, 0.237]  7.281373    0.563032   \n",
       "2                [0.134, 0.158, 0.144, 0.186, 0.378]  5.108043    0.397552   \n",
       "3  [0.02302302302302302, 0.35535535535535534, 0.3...  3.213502    0.246752   \n",
       "4                  [0.04, 0.397, 0.05, 0.171, 0.342]  4.769616    0.364395   \n",
       "\n",
       "      sharpe  \n",
       "0  11.358122  \n",
       "1  12.932424  \n",
       "2  12.848755  \n",
       "3  13.023200  \n",
       "4  13.089126  "
      ]
     },
     "execution_count": 15,
     "metadata": {},
     "output_type": "execute_result"
    }
   ],
   "source": [
    "scatter_data = pd.DataFrame()\n",
    "for i in range(0, 2500):\n",
    "    weights    = random_weights()\n",
    "    returns    = portfolio_annual_returns(    portfolio, weights )\n",
    "    volatility = portfolio_annual_volatility( portfolio, weights )\n",
    "    sharpe     = returns / volatility\n",
    "    scatter_data = scatter_data.append([{\n",
    "        \"weights\":    weights,\n",
    "        \"returns\":    returns,\n",
    "        \"volatility\": volatility,\n",
    "        \"sharpe\":     sharpe\n",
    "    }])\n",
    "\n",
    "scatter_data.reset_index(inplace=True, drop=True)\n",
    "scatter_data.head()"
   ]
  },
  {
   "cell_type": "code",
   "execution_count": 16,
   "metadata": {},
   "outputs": [
    {
     "data": {
      "text/plain": [
       "weights       [0.001, 0.271, 0.079, 0.252, 0.397]\n",
       "returns                                    7.0653\n",
       "volatility                               0.534957\n",
       "sharpe                                    13.2072\n",
       "Name: 516, dtype: object"
      ]
     },
     "execution_count": 16,
     "metadata": {},
     "output_type": "execute_result"
    }
   ],
   "source": [
    "point_max_sharpe     = scatter_data.loc[ scatter_data['sharpe'].idxmax()     ]\n",
    "point_max_sharpe"
   ]
  },
  {
   "cell_type": "code",
   "execution_count": 17,
   "metadata": {},
   "outputs": [
    {
     "data": {
      "text/plain": [
       "weights       [0.008, 0.448, 0.394, 0.001, 0.149]\n",
       "returns                                 0.0501945\n",
       "volatility                              0.0423648\n",
       "sharpe                                    1.18482\n",
       "Name: 1393, dtype: object"
      ]
     },
     "execution_count": 17,
     "metadata": {},
     "output_type": "execute_result"
    }
   ],
   "source": [
    "point_min_volatility = scatter_data.loc[ scatter_data['volatility'].idxmin() ]\n",
    "point_min_volatility"
   ]
  },
  {
   "cell_type": "code",
   "execution_count": 18,
   "metadata": {},
   "outputs": [
    {
     "data": {
      "text/plain": [
       "<matplotlib.collections.PathCollection at 0x242a4476978>"
      ]
     },
     "execution_count": 18,
     "metadata": {},
     "output_type": "execute_result"
    },
    {
     "data": {
      "image/png": "[encoded data removed]",
      "text/plain": [
       "<Figure size 1440x720 with 2 Axes>"
      ]
     },
     "metadata": {
      "needs_background": "light"
     },
     "output_type": "display_data"
    }
   ],
   "source": [
    "fig, ax = plt.subplots(figsize=(20, 10), nrows=1, ncols=1)\n",
    "plt.scatter( \n",
    "    scatter_data.volatility,     \n",
    "    scatter_data.returns, \n",
    "    c = scatter_data.sharpe\n",
    ")\n",
    "plt.title('Portfolio')\n",
    "plt.ylabel('Annualized Return')\n",
    "plt.xlabel('Annualized Volatility')\n",
    "plt.colorbar()\n",
    "\n",
    "# Mark the 2 portfolios where\n",
    "plt.scatter( point_max_sharpe.volatility,     point_max_sharpe.returns, c='b',s=200)\n",
    "plt.scatter( point_min_volatility.volatility, point_min_volatility.returns, c='r',s=200)"
   ]
  },
  {
   "cell_type": "code",
   "execution_count": null,
   "metadata": {},
   "outputs": [],
   "source": []
  }
 ],
 "metadata": {
  "kernelspec": {
   "display_name": "Python 3",
   "language": "python",
   "name": "python3"
  },
  "language_info": {
   "codemirror_mode": {
    "name": "ipython",
    "version": 3
   },
   "file_extension": ".py",
   "mimetype": "text/x-python",
   "name": "python",
   "nbconvert_exporter": "python",
   "pygments_lexer": "ipython3",
   "version": "3.6.3rc1"
  }
 },
 "nbformat": 4,
 "nbformat_minor": 4
}
